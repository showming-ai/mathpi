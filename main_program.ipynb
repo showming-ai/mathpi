{
 "cells": [
  {
   "cell_type": "code",
   "execution_count": 6,
   "metadata": {},
   "outputs": [
    {
     "name": "stdout",
     "output_type": "stream",
     "text": [
      "confidence:1\n",
      "ANTLR runtime and generated code versions disagree: 4.9.3!=4.5.3\n",
      "ANTLR runtime and generated code versions disagree: 4.9.3!=4.5.3\n",
      "result:Eq(5*x**2, y)\n"
     ]
    }
   ],
   "source": [
    "from math_OCR_sympy import image_to_Sympy\n",
    "import os\n",
    "from sympy import *\n",
    "filename = os.path.join(os.getcwd(),\"test_image_4.jpg\")\n",
    "confidence_text, result = image_to_Sympy(filename)"
   ]
  },
  {
   "cell_type": "code",
   "execution_count": 7,
   "metadata": {},
   "outputs": [
    {
     "data": {
      "text/latex": [
       "$\\displaystyle 5 x^{2} = y$"
      ],
      "text/plain": [
       "Eq(5*x**2, y)"
      ]
     },
     "execution_count": 7,
     "metadata": {},
     "output_type": "execute_result"
    }
   ],
   "source": [
    "result"
   ]
  },
  {
   "cell_type": "code",
   "execution_count": 8,
   "metadata": {},
   "outputs": [
    {
     "name": "stdout",
     "output_type": "stream",
     "text": [
      "Eq(y, 5*x**2)\n",
      "correct\n"
     ]
    }
   ],
   "source": [
    "from sympy import *\n",
    "from sympy import simplify\n",
    "x = symbols('x')\n",
    "y = symbols('y')\n",
    "f = symbols('f', cls = Function)\n",
    "#4\n",
    "f = Eq(y, 5*x**2)\n",
    "print(f)\n",
    "if simplify(f)==simplify(result):\n",
    "    print('correct')\n",
    "else:\n",
    "    print('wrong')"
   ]
  },
  {
   "cell_type": "code",
   "execution_count": 69,
   "metadata": {},
   "outputs": [
    {
     "data": {
      "text/latex": [
       "$\\displaystyle y = 5 x^{2}$"
      ],
      "text/plain": [
       "Eq(y, 5*x**2)"
      ]
     },
     "execution_count": 69,
     "metadata": {},
     "output_type": "execute_result"
    }
   ],
   "source": [
    "f"
   ]
  },
  {
   "cell_type": "code",
   "execution_count": 9,
   "metadata": {},
   "outputs": [
    {
     "data": {
      "text/latex": [
       "$\\displaystyle 5 x^{2} = y$"
      ],
      "text/plain": [
       "Eq(5*x**2, y)"
      ]
     },
     "execution_count": 9,
     "metadata": {},
     "output_type": "execute_result"
    }
   ],
   "source": [
    "result"
   ]
  },
  {
   "cell_type": "code",
   "execution_count": null,
   "metadata": {},
   "outputs": [],
   "source": [
    "#1\n",
    "#Eq((x + 3)**2, 4)\n",
    "#2\n",
    "#Eq(2*x**2 + x, 5)\n",
    "#3\n",
    "#-sqrt(3) + 3**2 + 5**2\n",
    "#4\n",
    "#Eq(y, 5*x**2)\n",
    "#5"
   ]
  }
 ],
 "metadata": {
  "interpreter": {
   "hash": "7382bd8909b8ecd804d47daa52f86c9c95fe2ca232c6f403162053aebd9bc4f5"
  },
  "kernelspec": {
   "display_name": "Python 3.9.7 64-bit ('LaTex': venv)",
   "language": "python",
   "name": "python3"
  },
  "language_info": {
   "codemirror_mode": {
    "name": "ipython",
    "version": 3
   },
   "file_extension": ".py",
   "mimetype": "text/x-python",
   "name": "python",
   "nbconvert_exporter": "python",
   "pygments_lexer": "ipython3",
   "version": "3.7.9"
  },
  "orig_nbformat": 4
 },
 "nbformat": 4,
 "nbformat_minor": 2
}
